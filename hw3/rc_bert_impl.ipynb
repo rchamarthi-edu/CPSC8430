{
 "cells": [
  {
   "cell_type": "markdown",
   "metadata": {},
   "source": [
    "## 1. Import Libraries"
   ]
  },
  {
   "cell_type": "code",
   "execution_count": 23,
   "metadata": {},
   "outputs": [
    {
     "name": "stdout",
     "output_type": "stream",
     "text": [
      "Using Tesla V100-SXM2-32GB\n"
     ]
    }
   ],
   "source": [
    "import torch\n",
    "from datasets import load_dataset\n",
    "from transformers import (\n",
    "    AutoTokenizer,\n",
    "    AutoModelForQuestionAnswering,\n",
    "    TrainingArguments,\n",
    "    Trainer,\n",
    "    DefaultDataCollator,\n",
    ")\n",
    "import collections\n",
    "import numpy as np\n",
    "from tqdm.auto import tqdm\n",
    "import matplotlib.pyplot as plt\n",
    "import os \n",
    "\n",
    "#global parameters\n",
    "max_length = 384\n",
    "doc_stride = 128\n",
    "os.environ[\"WANDB_DISABLED\"] = \"true\"\n",
    "\n",
    "#quick checks\n",
    "print(f\"Using {torch.cuda.get_device_name(0) if torch.cuda.is_available() else 'CPU'}\")"
   ]
  },
  {
   "cell_type": "markdown",
   "metadata": {},
   "source": [
    "## 2. Load the Spoken-SQuAD Dataset"
   ]
  },
  {
   "cell_type": "code",
   "execution_count": 9,
   "metadata": {},
   "outputs": [],
   "source": [
    "spoken_squad_dataset = load_dataset(\n",
    "    \"json\",\n",
    "    data_files={\n",
    "        \"train\": \"https://raw.githubusercontent.com/chiahsuan156/Spoken-SQuAD/master/spoken_train-v1.1.json\",\n",
    "        \"test\": \"https://raw.githubusercontent.com/chiahsuan156/Spoken-SQuAD/master/spoken_test-v1.1.json\",\n",
    "        \"test_wer44\": \"https://raw.githubusercontent.com/chiahsuan156/Spoken-SQuAD/master/spoken_test-v1.1_WER44.json\",\n",
    "        \"test_wer54\": \"https://raw.githubusercontent.com/chiahsuan156/Spoken-SQuAD/master/spoken_test-v1.1_WER54.json\"\n",
    "    },\n",
    "    field=\"data\"\n",
    ")"
   ]
  },
  {
   "cell_type": "markdown",
   "metadata": {},
   "source": [
    "## 3. Load Tokenizer and Model"
   ]
  },
  {
   "cell_type": "code",
   "execution_count": 10,
   "metadata": {},
   "outputs": [
    {
     "name": "stderr",
     "output_type": "stream",
     "text": [
      "Some weights of BertForQuestionAnswering were not initialized from the model checkpoint at bert-base-uncased and are newly initialized: ['qa_outputs.bias', 'qa_outputs.weight']\n",
      "You should probably TRAIN this model on a down-stream task to be able to use it for predictions and inference.\n"
     ]
    }
   ],
   "source": [
    "model_checkpoint = \"bert-base-uncased\"\n",
    "tokenizer = AutoTokenizer.from_pretrained(model_checkpoint)\n",
    "model = AutoModelForQuestionAnswering.from_pretrained(model_checkpoint)"
   ]
  },
  {
   "cell_type": "markdown",
   "metadata": {},
   "source": [
    "## 4. Preprocessing the Data"
   ]
  },
  {
   "cell_type": "code",
   "execution_count": 30,
   "metadata": {},
   "outputs": [],
   "source": [
    "def preprocess_function(examples):\n",
    "    questions = []\n",
    "    contexts = []\n",
    "    answers = []\n",
    "    \n",
    "    # handle the nested structure of spoken-squad\n",
    "    for paragraphs in examples['paragraphs']:\n",
    "        for paragraph in paragraphs:\n",
    "            context = paragraph['context']\n",
    "            for qa in paragraph['qas']:\n",
    "                questions.append(qa['question'])\n",
    "                contexts.append(context)\n",
    "                answers.append(qa['answers'][0])\n",
    "    \n",
    "    tokenized_examples = tokenizer(\n",
    "        questions,\n",
    "        contexts,\n",
    "        truncation=\"only_second\",\n",
    "        max_length=max_length,\n",
    "        stride=doc_stride,\n",
    "        return_overflowing_tokens=True,\n",
    "        return_offsets_mapping=True,\n",
    "        padding=\"max_length\",\n",
    "    )\n",
    "    \n",
    "    sample_mapping = tokenized_examples[\"overflow_to_sample_mapping\"]\n",
    "    offset_mapping = tokenized_examples[\"offset_mapping\"]\n",
    "    \n",
    "    tokenized_examples[\"start_positions\"] = []\n",
    "    tokenized_examples[\"end_positions\"] = []\n",
    "    \n",
    "    for i, offsets in enumerate(offset_mapping):\n",
    "        sample_index = sample_mapping[i]\n",
    "        answer = answers[sample_index]\n",
    "        start_char = answer[\"answer_start\"]\n",
    "        end_char = start_char + len(answer[\"text\"])\n",
    "        \n",
    "        sequence_ids = tokenized_examples.sequence_ids(i)\n",
    "        \n",
    "        # find context start/end\n",
    "        idx = 0\n",
    "        while sequence_ids[idx] != 1:\n",
    "            idx += 1\n",
    "        context_start = idx\n",
    "        while sequence_ids[idx] == 1:\n",
    "            idx += 1\n",
    "        context_end = idx - 1\n",
    "        \n",
    "        # check if answer is in this window\n",
    "        if offsets[context_start][0] > start_char or offsets[context_end][1] < end_char:\n",
    "            tokenized_examples[\"start_positions\"].append(0)\n",
    "            tokenized_examples[\"end_positions\"].append(0)\n",
    "        else:\n",
    "            # find token positions\n",
    "            token_start = context_start\n",
    "            while token_start <= context_end and offsets[token_start][0] < start_char:\n",
    "                token_start += 1\n",
    "            tokenized_examples[\"start_positions\"].append(token_start)\n",
    "            \n",
    "            token_end = context_end\n",
    "            while token_end >= context_start and offsets[token_end][1] > end_char:\n",
    "                token_end -= 1\n",
    "            tokenized_examples[\"end_positions\"].append(token_end)\n",
    "    \n",
    "    return tokenized_examples"
   ]
  },
  {
   "cell_type": "code",
   "execution_count": null,
   "metadata": {},
   "outputs": [
    {
     "data": {
      "application/vnd.jupyter.widget-view+json": {
       "model_id": "6f9897a0b60b43afbef382731c841554",
       "version_major": 2,
       "version_minor": 0
      },
      "text/plain": [
       "Map:   0%|          | 0/442 [00:00<?, ? examples/s]"
      ]
     },
     "metadata": {},
     "output_type": "display_data"
    },
    {
     "data": {
      "application/vnd.jupyter.widget-view+json": {
       "model_id": "831c4c00704644e9b30d937c050b2457",
       "version_major": 2,
       "version_minor": 0
      },
      "text/plain": [
       "Map:   0%|          | 0/48 [00:00<?, ? examples/s]"
      ]
     },
     "metadata": {},
     "output_type": "display_data"
    },
    {
     "data": {
      "application/vnd.jupyter.widget-view+json": {
       "model_id": "8e9b2a8ea69546c99275fbfa7f9f10a1",
       "version_major": 2,
       "version_minor": 0
      },
      "text/plain": [
       "Map:   0%|          | 0/48 [00:00<?, ? examples/s]"
      ]
     },
     "metadata": {},
     "output_type": "display_data"
    },
    {
     "data": {
      "application/vnd.jupyter.widget-view+json": {
       "model_id": "c655df3a942240948ecf54ca44700992",
       "version_major": 2,
       "version_minor": 0
      },
      "text/plain": [
       "Map:   0%|          | 0/48 [00:00<?, ? examples/s]"
      ]
     },
     "metadata": {},
     "output_type": "display_data"
    }
   ],
   "source": [
    "# process data\n",
    "tokenized_datasets = spoken_squad_dataset.map(\n",
    "    preprocess_function,\n",
    "    batched=True,\n",
    "    remove_columns=spoken_squad_dataset[\"train\"].column_names\n",
    ")"
   ]
  },
  {
   "cell_type": "markdown",
   "metadata": {},
   "source": [
    "## 5. Training the Model"
   ]
  },
  {
   "cell_type": "code",
   "execution_count": null,
   "metadata": {},
   "outputs": [
    {
     "name": "stderr",
     "output_type": "stream",
     "text": [
      "Using the `WANDB_DISABLED` environment variable is deprecated and will be removed in v5. Use the --report_to flag to control the integrations used for logging result (for instance --report_to none).\n",
      "/local_scratch/slurm.6607924/ipykernel_2104807/2987031444.py:11: FutureWarning: `tokenizer` is deprecated and will be removed in version 5.0.0 for `Trainer.__init__`. Use `processing_class` instead.\n",
      "  trainer = Trainer(\n",
      "Detected kernel version 4.18.0, which is below the recommended minimum of 5.5.0; this can cause the process to hang. It is recommended to upgrade the kernel to the minimum version or higher.\n",
      "/home/rchamar/.conda/envs/PytorchWorkshop/lib/python3.11/site-packages/torch/nn/parallel/_functions.py:70: UserWarning: Was asked to gather along dimension 0, but all input tensors were scalars; will instead unsqueeze and return a vector.\n",
      "  warnings.warn(\n"
     ]
    },
    {
     "data": {
      "text/html": [
       "\n",
       "    <div>\n",
       "      \n",
       "      <progress value='1749' max='1749' style='width:300px; height:20px; vertical-align: middle;'></progress>\n",
       "      [1749/1749 11:50, Epoch 3/3]\n",
       "    </div>\n",
       "    <table border=\"1\" class=\"dataframe\">\n",
       "  <thead>\n",
       " <tr style=\"text-align: left;\">\n",
       "      <th>Step</th>\n",
       "      <th>Training Loss</th>\n",
       "    </tr>\n",
       "  </thead>\n",
       "  <tbody>\n",
       "    <tr>\n",
       "      <td>500</td>\n",
       "      <td>0.279000</td>\n",
       "    </tr>\n",
       "    <tr>\n",
       "      <td>1000</td>\n",
       "      <td>0.383200</td>\n",
       "    </tr>\n",
       "    <tr>\n",
       "      <td>1500</td>\n",
       "      <td>0.442700</td>\n",
       "    </tr>\n",
       "  </tbody>\n",
       "</table><p>"
      ],
      "text/plain": [
       "<IPython.core.display.HTML object>"
      ]
     },
     "metadata": {},
     "output_type": "display_data"
    },
    {
     "name": "stderr",
     "output_type": "stream",
     "text": [
      "/home/rchamar/.conda/envs/PytorchWorkshop/lib/python3.11/site-packages/torch/nn/parallel/_functions.py:70: UserWarning: Was asked to gather along dimension 0, but all input tensors were scalars; will instead unsqueeze and return a vector.\n",
      "  warnings.warn(\n",
      "/home/rchamar/.conda/envs/PytorchWorkshop/lib/python3.11/site-packages/torch/nn/parallel/_functions.py:70: UserWarning: Was asked to gather along dimension 0, but all input tensors were scalars; will instead unsqueeze and return a vector.\n",
      "  warnings.warn(\n",
      "/home/rchamar/.conda/envs/PytorchWorkshop/lib/python3.11/site-packages/torch/nn/parallel/_functions.py:70: UserWarning: Was asked to gather along dimension 0, but all input tensors were scalars; will instead unsqueeze and return a vector.\n",
      "  warnings.warn(\n"
     ]
    }
   ],
   "source": [
    "# trainer handles lr decay\n",
    "training_args = TrainingArguments(\n",
    "    per_device_train_batch_size=16,\n",
    "    per_device_eval_batch_size=16,\n",
    "    weight_decay=0.01,\n",
    ")\n",
    "\n",
    "data_collator = DefaultDataCollator()\n",
    "\n",
    "trainer = Trainer(\n",
    "    model=model,\n",
    "    args=training_args,\n",
    "    train_dataset=tokenized_datasets[\"train\"],\n",
    "    eval_dataset=tokenized_datasets[\"test\"],\n",
    "    tokenizer=tokenizer,\n",
    "    data_collator=data_collator,\n",
    ")\n",
    "\n",
    "# train model and save \n",
    "trainer.train()\n",
    "trainer.save_model(\"./rkc_qa_model\")"
   ]
  },
  {
   "cell_type": "markdown",
   "metadata": {},
   "source": [
    "## 6. Postprocessing (Evaluation)"
   ]
  },
  {
   "cell_type": "code",
   "execution_count": 35,
   "metadata": {},
   "outputs": [],
   "source": [
    "# helper functions to calculate exact match and f1 score\n",
    "def calculate_em(predictions, dataset):\n",
    "    correct = 0\n",
    "    total = 0\n",
    "    for example in dataset: # example is an article\n",
    "        for paragraph in example[\"paragraphs\"]: # loop through paragraphs\n",
    "            for qa in paragraph[\"qas\"]: # loop through qas\n",
    "                qid = qa[\"id\"]\n",
    "                true_ans = qa[\"answers\"][0][\"text\"].strip().lower()\n",
    "                pred_ans = predictions.get(qid, \"\").strip().lower()\n",
    "                if pred_ans == true_ans:\n",
    "                    correct += 1\n",
    "                total += 1\n",
    "    if total == 0: return 0\n",
    "    return (correct / total) * 100\n",
    "\n",
    "def calculate_f1(predictions, dataset):\n",
    "    total_f1 = 0\n",
    "    total_qas = 0 # use this as the denominator\n",
    "    for example in dataset: # example is an article\n",
    "        for paragraph in example[\"paragraphs\"]: # loop through paragraphs\n",
    "            for qa in paragraph[\"qas\"]: # loop through qas\n",
    "                total_qas += 1\n",
    "                qid = qa[\"id\"]\n",
    "                true_ans = qa[\"answers\"][0][\"text\"].strip().lower()\n",
    "                pred_ans = predictions.get(qid, \"\").strip().lower()\n",
    "                \n",
    "                # tokenize by splitting on whitespace\n",
    "                true_tokens = true_ans.split()\n",
    "                pred_tokens = pred_ans.split()\n",
    "                \n",
    "                if len(pred_tokens) == 0 or len(true_tokens) == 0:\n",
    "                    if len(pred_tokens) == len(true_tokens):\n",
    "                        total_f1 += 1.0\n",
    "                    continue\n",
    "                \n",
    "                # count common tokens\n",
    "                common = sum((min(true_tokens.count(t), pred_tokens.count(t)) for t in set(true_tokens)))\n",
    "                \n",
    "                if common == 0:\n",
    "                    continue\n",
    "                    \n",
    "                precision = common / len(pred_tokens)\n",
    "                recall = common / len(true_tokens)\n",
    "                f1 = 2 * (precision * recall) / (precision + recall)\n",
    "                total_f1 += f1\n",
    "    \n",
    "    if total_qas == 0: return 0\n",
    "    return (total_f1 / total_qas) * 100"
   ]
  },
  {
   "cell_type": "code",
   "execution_count": null,
   "metadata": {},
   "outputs": [],
   "source": [
    "# evaluate on test set \n",
    "# for each question: \n",
    "#   - get top 20 start/end logits\n",
    "#   - try combinations and filter out invalid ones \n",
    "#   - extract text for valid combinations \n",
    "#   - select answer with highest logit score \n",
    "#   - compare to score for no answer and return empty string if no answer is better\n",
    "def evaluate_on_test_set(test_name):\n",
    "    print(f\"evaluating {test_name}...\")\n",
    "    \n",
    "    # get predictions\n",
    "    preds = trainer.predict(tokenized_datasets[test_name])\n",
    "    \n",
    "    features = tokenized_datasets[test_name]\n",
    "    examples = spoken_squad_dataset[test_name]\n",
    "    \n",
    "    # create a map from sample_index -> [feature_indices]\n",
    "    feat_to_sample = collections.defaultdict(list)\n",
    "    for i in range(len(features)):\n",
    "        feat_to_sample[features[i][\"overflow_to_sample_mapping\"]].append(i)\n",
    "    \n",
    "    # create a flat list of all qas (samples) from the original dataset\n",
    "    # this is the \"ground truth\" that sample_index maps to\n",
    "    all_qas = []\n",
    "    for example in examples: # example is an article\n",
    "        for paragraph in example[\"paragraphs\"]:\n",
    "            context = paragraph[\"context\"]\n",
    "            for qa in paragraph[\"qas\"]:\n",
    "                all_qas.append({\"qa\": qa, \"context\": context})\n",
    "    \n",
    "    start_logits = preds.predictions[0]\n",
    "    end_logits = preds.predictions[1]\n",
    "    predictions = collections.OrderedDict()\n",
    "    \n",
    "    # now, loop over the flat list of qas, using its index as the sample_index\n",
    "    for sample_index, sample in enumerate(tqdm(all_qas)):\n",
    "        feat_idxs = feat_to_sample.get(sample_index, []) # get features for this qa\n",
    "        min_null = None\n",
    "        answers = []\n",
    "        context = sample[\"context\"]\n",
    "        \n",
    "        for f_idx in feat_idxs:\n",
    "            s_logits = start_logits[f_idx]\n",
    "            e_logits = end_logits[f_idx]\n",
    "            offsets = features[f_idx][\"offset_mapping\"]\n",
    "            \n",
    "            # null answer\n",
    "            null_score = s_logits[0] + e_logits[0]\n",
    "            if min_null is None or min_null > null_score:\n",
    "                min_null = null_score\n",
    "            \n",
    "            # get top candidates\n",
    "            starts = np.argsort(s_logits)[-1:-21:-1].tolist()\n",
    "            ends = np.argsort(e_logits)[-1:-21:-1].tolist()\n",
    "            \n",
    "            for si in starts:\n",
    "                for ei in ends:\n",
    "                    if (si >= len(offsets) or ei >= len(offsets) or \n",
    "                        offsets[si] is None or offsets[ei] is None or ei < si):\n",
    "                        continue\n",
    "                    \n",
    "                    text = context[offsets[si][0]:offsets[ei][1]]\n",
    "                    answers.append({\n",
    "                        \"score\": s_logits[si] + e_logits[ei],\n",
    "                        \"text\": text\n",
    "                    })\n",
    "        \n",
    "        best = sorted(answers, key=lambda x: x[\"score\"], reverse=True)[0] if answers else {\"text\": \"\", \"score\": 0}\n",
    "        qid = sample[\"qa\"][\"id\"] # get qid from the sample\n",
    "        predictions[qid] = best[\"text\"] if best[\"score\"] > min_null else \"\"\n",
    "    \n",
    "    em = calculate_em(predictions, examples)\n",
    "    f1 = calculate_f1(predictions, examples)\n",
    "    print(f\"{test_name}: EM={em:.2f}%, F1={f1:.2f}%\")\n",
    "    \n",
    "    # return f1 as well, because the final plotting cell needs it\n",
    "    return em, f1, predictions"
   ]
  },
  {
   "cell_type": "code",
   "execution_count": null,
   "metadata": {},
   "outputs": [
    {
     "name": "stdout",
     "output_type": "stream",
     "text": [
      "evaluating test...\n"
     ]
    },
    {
     "data": {
      "text/html": [],
      "text/plain": [
       "<IPython.core.display.HTML object>"
      ]
     },
     "metadata": {},
     "output_type": "display_data"
    },
    {
     "data": {
      "application/vnd.jupyter.widget-view+json": {
       "model_id": "d4ebcfe547a54586b536ba85d6ea3490",
       "version_major": 2,
       "version_minor": 0
      },
      "text/plain": [
       "  0%|          | 0/5351 [00:00<?, ?it/s]"
      ]
     },
     "metadata": {},
     "output_type": "display_data"
    },
    {
     "name": "stdout",
     "output_type": "stream",
     "text": [
      "test: EM=46.81%, F1=65.83%\n",
      "evaluating test_wer44...\n"
     ]
    },
    {
     "data": {
      "text/html": [],
      "text/plain": [
       "<IPython.core.display.HTML object>"
      ]
     },
     "metadata": {},
     "output_type": "display_data"
    },
    {
     "data": {
      "application/vnd.jupyter.widget-view+json": {
       "model_id": "4fd282fbbf0446c9adfa10a08293bb73",
       "version_major": 2,
       "version_minor": 0
      },
      "text/plain": [
       "  0%|          | 0/5351 [00:00<?, ?it/s]"
      ]
     },
     "metadata": {},
     "output_type": "display_data"
    },
    {
     "name": "stdout",
     "output_type": "stream",
     "text": [
      "test_wer44: EM=27.02%, F1=45.74%\n",
      "evaluating test_wer54...\n"
     ]
    },
    {
     "data": {
      "text/html": [],
      "text/plain": [
       "<IPython.core.display.HTML object>"
      ]
     },
     "metadata": {},
     "output_type": "display_data"
    },
    {
     "data": {
      "application/vnd.jupyter.widget-view+json": {
       "model_id": "85edd547fec14031924e217a62cad67a",
       "version_major": 2,
       "version_minor": 0
      },
      "text/plain": [
       "  0%|          | 0/5351 [00:00<?, ?it/s]"
      ]
     },
     "metadata": {},
     "output_type": "display_data"
    },
    {
     "name": "stdout",
     "output_type": "stream",
     "text": [
      "test_wer54: EM=18.97%, F1=34.13%\n",
      "\n",
      "========================================\n",
      "test (wer 22.73): EM=46.81%, F1=65.83%\n",
      "test_wer44 (wer 44): EM=27.02%, F1=45.74%\n",
      "test_wer54 (wer 54): EM=18.97%, F1=34.13%\n"
     ]
    }
   ],
   "source": [
    "# run on all test sets\n",
    "results = {}\n",
    "for test_set in [\"test\", \"test_wer44\", \"test_wer54\"]:\n",
    "    em, f1, preds = evaluate_on_test_set(test_set) # capture em, f1, and preds\n",
    "    results[test_set] = {\"em\": em, \"f1\": f1, \"predictions\": preds} \n",
    "\n",
    "print(\"\\n\" + \"=\"*40)\n",
    "for name, data in results.items():\n",
    "    wer = \"22.73\" if name == \"test\" else name.split(\"wer\")[1]\n",
    "\n",
    "    # print both em and f1\n",
    "    print(f\"{name} (wer {wer}): EM={data['em']:.2f}%, F1={data['f1']:.2f}%\")"
   ]
  },
  {
   "cell_type": "markdown",
   "metadata": {},
   "source": [
    "## 7. Plot"
   ]
  },
  {
   "cell_type": "code",
   "execution_count": 40,
   "metadata": {},
   "outputs": [
    {
     "data": {
      "image/png": "[encoded data removed]",
      "text/plain": [
       "<Figure size 800x500 with 1 Axes>"
      ]
     },
     "metadata": {},
     "output_type": "display_data"
    },
    {
     "data": {
      "image/png": "[encoded data removed]",
      "text/plain": [
       "<Figure size 800x500 with 1 Axes>"
      ]
     },
     "metadata": {},
     "output_type": "display_data"
    }
   ],
   "source": [
    "# plot results\n",
    "names = []\n",
    "em_scores = []\n",
    "f1_scores = []\n",
    "wers = []\n",
    "\n",
    "for test_set, data in results.items():\n",
    "    wer = 22.73 if test_set == \"test\" else float(test_set.split(\"wer\")[1])\n",
    "    names.append(f\"{test_set}\\nWER={wer}%\")\n",
    "    em_scores.append(data['em'])\n",
    "    f1_scores.append(data['f1'])\n",
    "    wers.append(wer)\n",
    "\n",
    "# em bar chart\n",
    "plt.figure(figsize=(8, 5))\n",
    "plt.bar(names, em_scores, color=['green', 'orange', 'red'])\n",
    "plt.ylabel('exact match (%)')\n",
    "plt.title('Exact match across different WER levels')\n",
    "plt.ylim(0, max(em_scores) * 1.2)\n",
    "for i, v in enumerate(em_scores):\n",
    "    plt.text(i, v + 1, f'{v:.1f}%', ha='center')\n",
    "plt.show()\n",
    "\n",
    "# f1 bar chart\n",
    "plt.figure(figsize=(8, 5))\n",
    "plt.bar(names, f1_scores, color=['green', 'orange', 'red'])\n",
    "plt.ylabel('F1 score (%)')\n",
    "plt.title('F1 score across different WER levels')\n",
    "plt.ylim(0, max(f1_scores) * 1.2)\n",
    "for i, v in enumerate(f1_scores):\n",
    "    plt.text(i, v + 1, f'{v:.1f}%', ha='center')\n",
    "plt.show()"
   ]
  }
 ],
 "metadata": {
  "kernelspec": {
   "display_name": "Pytorch Workshop",
   "language": "python",
   "name": "pytorchworkshop"
  },
  "language_info": {
   "codemirror_mode": {
    "name": "ipython",
    "version": 3
   },
   "file_extension": ".py",
   "mimetype": "text/x-python",
   "name": "python",
   "nbconvert_exporter": "python",
   "pygments_lexer": "ipython3",
   "version": "3.11.13"
  }
 },
 "nbformat": 4,
 "nbformat_minor": 4
}
